{
 "cells": [
  {
   "cell_type": "markdown",
   "id": "7a493113-11db-4d2b-883d-61ec85127e7b",
   "metadata": {},
   "source": [
    "Data Science Tools and Ecosystem"
   ]
  },
  {
   "cell_type": "markdown",
   "id": "bfefe5a7-5b8a-4a38-9966-805303de5cc2",
   "metadata": {},
   "source": [
    "In this notebook, Data Science Tools and Ecosystem are summarized."
   ]
  },
  {
   "cell_type": "markdown",
   "id": "1e708b6f-28d8-411d-859b-67cc106e5b75",
   "metadata": {},
   "source": [
    "OBJECTIVES:\n",
    "List popular languages for Data Science:\n",
    "Python – Most widely used for data analysis, machine learning, and AI.\n",
    "\n",
    "R – Great for statistical computing and data visualization.\n",
    "\n",
    "SQL – Used to query and manage structured data in databases.\n"
   ]
  },
  {
   "cell_type": "markdown",
   "id": "64bfeff2-6a73-4dd0-87f5-0ba686c29eb8",
   "metadata": {},
   "source": [
    "Some of the popular languages that Data Scientists use are:"
   ]
  },
  {
   "cell_type": "markdown",
   "id": "18a9bc9d-fa64-48e0-8424-397962078f6e",
   "metadata": {},
   "source": [
    "\n",
    "Python – Widely used for machine learning, data analysis, and visualization (libraries like Pandas, NumPy, TensorFlow, Matplotlib).\n",
    "\n",
    "R – Popular for statistical analysis, data visualization, and research.\n",
    "\n",
    "SQL – Essential for managing and querying structured data in databases."
   ]
  },
  {
   "cell_type": "markdown",
   "id": "471c017e-c17c-42a9-8ee1-19d8feac55c6",
   "metadata": {},
   "source": [
    "Some of the commonly used libraries used by Data Scientists include:\n",
    "Pandas – For data manipulation and analysis.\n",
    "\n",
    "NumPy – For numerical and mathematical computations.\n",
    "\n",
    "Matplotlib – For data visualization through charts and plots."
   ]
  },
  {
   "cell_type": "markdown",
   "id": "24c27824-588a-4908-9f65-1337bd31b917",
   "metadata": {},
   "source": [
    "Data Science Tools:\n",
    "Jupyter Notebook – An open-source web application for writing and running code interactively.\n",
    "\n",
    "RStudio – An IDE for R, used for statistical computing and graphics.\n",
    "\n",
    "Google Colab – A cloud-based Jupyter-like notebook for Python with free GPU access."
   ]
  },
  {
   "cell_type": "markdown",
   "id": "1bdd9028-8bb0-402a-be9b-9e8c3e5190ed",
   "metadata": {},
   "source": [
    "Below are a few examples of evaluating arithmetic expressions in Python:\n",
    "result1 = 10 + 5\n",
    "print(\"Addition:\", result1) \n",
    "result2 = 20 - 8\n",
    "print(\"Subtraction:\", result2) \n",
    "result3 = 6 * 7\n",
    "print(\"Multiplication:\", result3)"
   ]
  },
  {
   "cell_type": "code",
   "execution_count": 3,
   "id": "f4b89084-35ec-4568-a7a5-92d5e9901bef",
   "metadata": {},
   "outputs": [
    {
     "data": {
      "text/plain": [
       "17"
      ]
     },
     "execution_count": 3,
     "metadata": {},
     "output_type": "execute_result"
    }
   ],
   "source": [
    " # This a simple arithmetic expression to mutiply then add integers\n",
    "(3*4)+5"
   ]
  },
  {
   "cell_type": "code",
   "execution_count": 5,
   "id": "d2674b1c-d58a-445e-b8b2-24664429ddb4",
   "metadata": {},
   "outputs": [
    {
     "name": "stdout",
     "output_type": "stream",
     "text": [
      "3.3333333333333335\n"
     ]
    }
   ],
   "source": [
    " # This will convert 200 minutes to hours by diving by 60.\n",
    "hours = 200 / 60\n",
    "print(hours)\n"
   ]
  },
  {
   "cell_type": "markdown",
   "id": "4444ab76-d60e-4fe5-a8a1-545b00a9806e",
   "metadata": {},
   "source": [
    "Author\n",
    "Manik Sharma"
   ]
  },
  {
   "cell_type": "code",
   "execution_count": null,
   "id": "18cbb4b6-5e48-4c21-957c-db0abc0a1537",
   "metadata": {},
   "outputs": [],
   "source": []
  }
 ],
 "metadata": {
  "kernelspec": {
   "display_name": "Python 3 (ipykernel)",
   "language": "python",
   "name": "python3"
  },
  "language_info": {
   "codemirror_mode": {
    "name": "ipython",
    "version": 3
   },
   "file_extension": ".py",
   "mimetype": "text/x-python",
   "name": "python",
   "nbconvert_exporter": "python",
   "pygments_lexer": "ipython3",
   "version": "3.12.8"
  }
 },
 "nbformat": 4,
 "nbformat_minor": 5
}
